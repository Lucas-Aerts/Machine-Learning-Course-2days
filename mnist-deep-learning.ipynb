{
  "cells": [
    {
      "cell_type": "markdown",
      "metadata": {
        "id": "view-in-github",
        "colab_type": "text"
      },
      "source": [
        "<a href=\"https://colab.research.google.com/github/Lucas-Aerts/Machine-Learning-Course-2days/blob/main/mnist-deep-learning.ipynb\" target=\"_parent\"><img src=\"https://colab.research.google.com/assets/colab-badge.svg\" alt=\"Open In Colab\"/></a>"
      ]
    },
    {
      "cell_type": "code",
      "execution_count": null,
      "metadata": {
        "id": "OYHFXjEzA5kV"
      },
      "outputs": [],
      "source": [
        "import warnings\n",
        "warnings.filterwarnings('ignore')"
      ]
    },
    {
      "cell_type": "markdown",
      "metadata": {
        "id": "n_tuZP6mA5kY"
      },
      "source": [
        "# MNIST digit classification: Deep Learning\n",
        "\n",
        "Let's load the data again:"
      ]
    },
    {
      "cell_type": "code",
      "execution_count": null,
      "metadata": {
        "id": "ZGJnZj0fLtCU"
      },
      "outputs": [],
      "source": [
        "from sklearn.datasets import fetch_openml\n",
        "from sklearn.preprocessing import MinMaxScaler\n",
        "from sklearn.model_selection import train_test_split\n",
        "\n",
        "mnist = fetch_openml('mnist_784', as_frame=False, cache=False)\n",
        "#test\n",
        "X = mnist.data.astype('float32')\n",
        "y = mnist.target.astype('int64')\n",
        "\n",
        "X = MinMaxScaler().fit_transform(X)\n",
        "\n",
        "X_train, X_test, y_train, y_test = train_test_split(X, y, test_size=0.25, random_state=42)"
      ]
    },
    {
      "cell_type": "markdown",
      "metadata": {
        "id": "bb5iG7KlA5kb"
      },
      "source": [
        "For Deep Learning we will use the [PyTorch](https://pytorch.org/) library. \n",
        "\n",
        "PyTorch can fit models on a GPU, if available:"
      ]
    },
    {
      "cell_type": "code",
      "execution_count": null,
      "metadata": {
        "id": "rY5CWPtASO6O"
      },
      "outputs": [],
      "source": [
        "import torch\n",
        "from torch import nn\n",
        "import torch.nn.functional as F\n",
        "\n",
        "device = 'cuda' if torch.cuda.is_available() else 'cpu'\n",
        "\n",
        "print(device)"
      ]
    },
    {
      "cell_type": "markdown",
      "metadata": {
        "id": "U5CtmVFMA5kd"
      },
      "source": [
        "## 1. Feed-forward neural network\n",
        "\n",
        "We can now define a neural network with one hidden layer as a class the inherits `nn.Module`. \n",
        "\n",
        "All we need to do is define the `forward()` function:"
      ]
    },
    {
      "cell_type": "code",
      "execution_count": null,
      "metadata": {
        "id": "uB9LvM1eO3dX"
      },
      "outputs": [],
      "source": [
        "class myNeuralNetwork(nn.Module):\n",
        "    def __init__(\n",
        "            self,\n",
        "            input_dim,\n",
        "            hidden_dim,\n",
        "            output_dim\n",
        "    ):\n",
        "        super(myNeuralNetwork, self).__init__()\n",
        "        self.hidden = nn.Linear(input_dim, hidden_dim)\n",
        "        self.output = nn.Linear(hidden_dim, output_dim)\n",
        "\n",
        "    def forward(self, x, **kwargs):\n",
        "        x = F.relu(self.hidden(x))\n",
        "        x = self.output(x)\n",
        "        x = F.softmax(x, dim=1)\n",
        "        return x"
      ]
    },
    {
      "cell_type": "markdown",
      "metadata": {
        "id": "ad2nbWVpA5ke"
      },
      "source": [
        "The Python skorch library wraps the PyTorch model fitting such that it can be used similarly to Scikit-learn.\n",
        "\n",
        "We can initialize the `myNeuralNetwork` architecture as follows:"
      ]
    },
    {
      "cell_type": "code",
      "execution_count": null,
      "metadata": {
        "id": "4m5fbk7Oo1kM"
      },
      "outputs": [],
      "source": [
        "#first we need to install the skorch library\n",
        "!pip install skorch\n",
        "\n",
        "from skorch import NeuralNetClassifier\n",
        "\n",
        "input_dim = 784\n",
        "hidden_dim = 100\n",
        "output_dim = 10\n",
        "\n",
        "net = NeuralNetClassifier(\n",
        "    myNeuralNetwork(input_dim,hidden_dim,output_dim),\n",
        "    max_epochs=20,\n",
        "    lr=0.1, #learning rate\n",
        "    device=device,\n",
        ")"
      ]
    },
    {
      "cell_type": "markdown",
      "metadata": {
        "id": "4HCob9myA5kh"
      },
      "source": [
        "Now we can call the `fit()` function to train the neural network:"
      ]
    },
    {
      "cell_type": "code",
      "execution_count": null,
      "metadata": {
        "id": "RmFlNCXVUZy5"
      },
      "outputs": [],
      "source": [
        "net.fit(X_train, y_train)"
      ]
    },
    {
      "cell_type": "markdown",
      "metadata": {
        "id": "aHracoRrA5ki"
      },
      "source": [
        "We can make prediction using the fitted model as follows:"
      ]
    },
    {
      "cell_type": "code",
      "execution_count": null,
      "metadata": {
        "id": "D4BHrTiEUcMJ"
      },
      "outputs": [],
      "source": [
        "from sklearn.metrics import accuracy_score\n",
        "from sklearn.metrics import classification_report\n",
        "\n",
        "y_predicted = net.predict(X_test)\n",
        "\n",
        "print(\"Accuracy = {}%\\n\".format(accuracy_score(y_test, y_predicted)*100))\n",
        "\n",
        "print(\"Classification Report\\n {}\".format(classification_report(y_test, y_predicted, labels=range(0,10))))"
      ]
    },
    {
      "cell_type": "markdown",
      "metadata": {
        "id": "kgbgUAIKA5kj"
      },
      "source": [
        "## 2. Convolutional neural network\n",
        "\n",
        "The input of the CNN is the image in 2D, not 1D (flattened) as for the previous neural network.\n",
        "\n",
        "Images can also have channels. For color images there are typically 3 channels: one for red, one for green, and one for blue.\n",
        "For gray-scale images there is just one channel. \n",
        "\n",
        "For the MNIST data we reshape the datasets as follows:"
      ]
    },
    {
      "cell_type": "code",
      "execution_count": null,
      "metadata": {
        "id": "WJfQpp_WU3kK"
      },
      "outputs": [],
      "source": [
        "print(X.shape)\n",
        "\n",
        "XCnn = X.reshape(-1, 1, 28, 28)\n",
        "\n",
        "print(XCnn.shape)"
      ]
    },
    {
      "cell_type": "markdown",
      "metadata": {
        "id": "4Q-NGHkbA5kk"
      },
      "source": [
        "Next we create training and test set:"
      ]
    },
    {
      "cell_type": "code",
      "execution_count": null,
      "metadata": {
        "id": "GdMstC8bbiAX"
      },
      "outputs": [],
      "source": [
        "XCnn_train, XCnn_test, y_train, y_test = train_test_split(XCnn, y, test_size=0.25, random_state=42)\n",
        "\n",
        "print(XCnn_train.shape)\n",
        "print(y_train.shape)"
      ]
    },
    {
      "cell_type": "markdown",
      "metadata": {
        "id": "rqG_2ZijA5kl"
      },
      "source": [
        "We define the CNN:"
      ]
    },
    {
      "cell_type": "code",
      "execution_count": null,
      "metadata": {
        "id": "_NRPKsODcrV2"
      },
      "outputs": [],
      "source": [
        "class myCNN(nn.Module):\n",
        "    def __init__(self, dropout=0.5):\n",
        "        super(myCNN, self).__init__()\n",
        "        self.conv1 = nn.Conv2d(1, 32, kernel_size=3)\n",
        "        self.conv2 = nn.Conv2d(32, 64, kernel_size=3)\n",
        "        self.fc1 = nn.Linear(1600, 10) # 1600 = number channels * width * height\n",
        "\n",
        "    def forward(self, x):\n",
        "        x = torch.relu(F.max_pool2d(self.conv1(x), 2))\n",
        "        x = torch.relu(F.max_pool2d(self.conv2(x), 2))\n",
        "\n",
        "        x = x.view(-1, x.size(1) * x.size(2) * x.size(3))\n",
        "\n",
        "        x = self.fc1(x)\n",
        "        x = torch.softmax(x, dim=1) #dim=1 means softmax over columns\n",
        "\n",
        "        return x"
      ]
    },
    {
      "cell_type": "markdown",
      "metadata": {
        "id": "G81hTbMzA5km"
      },
      "source": [
        "Now we can use skorch to wrap the `myCNN` so we can use the `fit()` and `predict()` functions:"
      ]
    },
    {
      "cell_type": "code",
      "execution_count": null,
      "metadata": {
        "id": "W8iCagOKdD79"
      },
      "outputs": [],
      "source": [
        "cnn = NeuralNetClassifier(\n",
        "    myCNN,\n",
        "    max_epochs=20,\n",
        "    lr=0.002,\n",
        "    optimizer=torch.optim.Adam,\n",
        "    device=device,\n",
        ")"
      ]
    },
    {
      "cell_type": "code",
      "execution_count": null,
      "metadata": {
        "id": "h4VjkjJae9EP"
      },
      "outputs": [],
      "source": [
        "cnn.fit(XCnn_train, y_train)"
      ]
    },
    {
      "cell_type": "code",
      "execution_count": null,
      "metadata": {
        "id": "i1srM1rjlav7"
      },
      "outputs": [],
      "source": [
        "from sklearn.metrics import accuracy_score\n",
        "from sklearn.metrics import classification_report\n",
        "\n",
        "y_predicted_cnn = cnn.predict(XCnn_test)\n",
        "\n",
        "print(\"Accuracy = {}%\\n\".format(accuracy_score(y_test, y_predicted_cnn)*100))\n",
        "\n",
        "print(\"Classification Report\\n {}\".format(classification_report(y_test, y_predicted_cnn, labels=range(0,10))))"
      ]
    },
    {
      "cell_type": "code",
      "execution_count": null,
      "metadata": {
        "id": "JOwbrZ0mqQwD"
      },
      "outputs": [],
      "source": []
    }
  ],
  "metadata": {
    "accelerator": "GPU",
    "colab": {
      "name": "mnist.ipynb",
      "provenance": [],
      "include_colab_link": true
    },
    "gpuClass": "standard",
    "kernelspec": {
      "display_name": "Python 3 (ipykernel)",
      "language": "python",
      "name": "python3"
    },
    "language_info": {
      "codemirror_mode": {
        "name": "ipython",
        "version": 3
      },
      "file_extension": ".py",
      "mimetype": "text/x-python",
      "name": "python",
      "nbconvert_exporter": "python",
      "pygments_lexer": "ipython3",
      "version": "3.9.13"
    }
  },
  "nbformat": 4,
  "nbformat_minor": 0
}